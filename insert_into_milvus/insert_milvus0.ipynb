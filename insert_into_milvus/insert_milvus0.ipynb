{
 "cells": [
  {
   "cell_type": "code",
   "execution_count": 42,
   "metadata": {},
   "outputs": [],
   "source": [
    "from sentence_transformers import SentenceTransformer\n",
    "import os\n",
    "class EmbeddingService:\n",
    "    def __init__(self, model_name, device):\n",
    "        self.model = SentenceTransformer(model_name, device=device)\n",
    "    \n",
    "    def generate_embedding(self, text):\n",
    "        return self.model.encode([text])"
   ]
  },
  {
   "cell_type": "code",
   "execution_count": 43,
   "metadata": {},
   "outputs": [],
   "source": [
    "sentence_transformer_model = 'sentence-transformers/paraphrase-multilingual-mpnet-base-v2'\n",
    "sentence_transformer_device = 'cpu'\n",
    "embedding_service = EmbeddingService(sentence_transformer_model, sentence_transformer_device)"
   ]
  },
  {
   "cell_type": "code",
   "execution_count": 44,
   "metadata": {},
   "outputs": [],
   "source": [
    "pdf_folder = \"/Users/yeargun/Downloads/TESTPDFS\"\n",
    "\n",
    "# Initialize the text splitter\n",
    "text_splitter = RecursiveCharacterTextSplitter(\n",
    "    chunk_size=1000,\n",
    "    chunk_overlap=200,\n",
    "    length_function=len,\n",
    ")\n",
    "\n",
    "# Initialize the embedding model\n",
    "embeddings = HuggingFaceEmbeddings()\n"
   ]
  },
  {
   "cell_type": "code",
   "execution_count": 57,
   "metadata": {},
   "outputs": [
    {
     "name": "stdout",
     "output_type": "stream",
     "text": [
      "Collection 'pdf_embeddings' created successfully.\n",
      "Script execution completed.\n"
     ]
    }
   ],
   "source": [
    "from pymilvus import connections, db, IndexType, Milvus, MilvusClient, DataType, Collection\n",
    "from pymilvus.client.types import MetricType\n",
    "from pymilvus.milvus_client import IndexParams\n",
    "\n",
    "db_name = \"pdf_db\"\n",
    "collection_name = \"pdf_embeddings\"\n",
    "embedding_index = \"pdf_embedding_index\"\n",
    "\n",
    "databases = db.list_database()\n",
    "if db_name not in databases:\n",
    "    database = db.create_database(db_name)\n",
    "\n",
    "client = MilvusClient(\n",
    "    uri=\"http://localhost:19530\",\n",
    "    db_name=db_name\n",
    ")\n",
    "\n",
    "def create_indices(client):\n",
    "    index_params = IndexParams()\n",
    "\n",
    "    index_params.add_index(\n",
    "        field_name=\"embedding\",\n",
    "        index_type='IVF_FLAT', \n",
    "        metric_type='COSINE',\n",
    "        params={\"nlist\": 1024},\n",
    "        index_name=embedding_index\n",
    "    )\n",
    "\n",
    "\n",
    "    client.create_index(\n",
    "        collection_name=collection_name,\n",
    "        index_params=index_params,\n",
    "    )\n",
    "\n",
    "if collection_name in client.list_collections():\n",
    "    print(f\"Collection '{collection_name}' already exists.\")\n",
    "    print(client.list_indexes(collection_name=collection_name))\n",
    "    if embedding_index not in client.list_indexes(collection_name=collection_name):\n",
    "        create_indices(client)\n",
    "        print(f\"Indices for '{collection_name}' created successfully.\")\n",
    "else:\n",
    "    schema = MilvusClient.create_schema(\n",
    "        auto_id=True,\n",
    "        enable_dynamic_field=True,\n",
    "        description=\"PDF embeddings and metadata\",\n",
    "    )\n",
    "\n",
    "    schema.add_field(field_name=\"id\", datatype=DataType.INT64, is_primary=True)\n",
    "    schema.add_field(field_name=\"embedding\", datatype=DataType.FLOAT_VECTOR, dim=768)\n",
    "    schema.add_field(field_name=\"content\", datatype=DataType.VARCHAR, max_length=65535)\n",
    "    schema.add_field(field_name=\"page_number\", datatype=DataType.INT64)\n",
    "    schema.add_field(field_name=\"file_name\", datatype=DataType.VARCHAR, max_length=1024)\n",
    "\n",
    "\n",
    "    client.create_collection(\n",
    "        auto_id=True,\n",
    "        enable_dynamic_field=True,\n",
    "        collection_name=collection_name,\n",
    "        schema=schema,\n",
    "    )\n",
    "    create_indices(client)\n",
    "\n",
    "    print(f\"Collection '{collection_name}' created successfully.\")\n",
    "\n",
    "print(\"Script execution completed.\")"
   ]
  },
  {
   "cell_type": "code",
   "execution_count": 58,
   "metadata": {},
   "outputs": [],
   "source": [
    "def ensure_index(client, collection_name):\n",
    "    index_params = IndexParams()\n",
    "    index_params.add_index(\n",
    "        field_name=\"embedding\",\n",
    "        index_type='IVF_FLAT',\n",
    "        metric_type='COSINE',\n",
    "        params={\"nlist\": 1024},\n",
    "        index_name=\"pdf_embedding_index\"\n",
    "    )\n",
    "    client.create_index(\n",
    "        collection_name=collection_name,\n",
    "        index_params=index_params,\n",
    "    )\n",
    "    print(f\"Index created for collection '{collection_name}'\")"
   ]
  },
  {
   "cell_type": "code",
   "execution_count": 71,
   "metadata": {},
   "outputs": [],
   "source": [
    "def process_pdfs_and_upload_to_milvus(pdf_directory, client, collection_name):\n",
    "    sentence_transformer_model = 'sentence-transformers/paraphrase-multilingual-mpnet-base-v2'\n",
    "    sentence_transformer_device = 'cpu'\n",
    "    embedding_service = EmbeddingService(sentence_transformer_model, sentence_transformer_device)\n",
    "\n",
    "    text_splitter = RecursiveCharacterTextSplitter(chunk_size=1000, chunk_overlap=200)\n",
    "\n",
    "    if \"pdf_embedding_index\" not in client.list_indexes(collection_name):\n",
    "        ensure_index(client, collection_name)\n",
    "\n",
    "\n",
    "    client.load_collection(collection_name)\n",
    "\n",
    "    for root, _, files in os.walk(pdf_directory):\n",
    "        for file in files:\n",
    "            if file.endswith('.pdf'):\n",
    "                pdf_path = os.path.join(root, file)\n",
    "                print(f\"Processing {pdf_path}\")\n",
    "\n",
    "                loader = PyPDFLoader(pdf_path)\n",
    "                documents = loader.load()\n",
    "\n",
    "                splits = text_splitter.split_documents(documents)\n",
    "\n",
    "                data = []\n",
    "                for split in splits:\n",
    "                    content = split.page_content\n",
    "                    embedding = embedding_service.generate_embedding(content)\n",
    "                    page_number = split.metadata.get('page', 0) + 1  # PyPDFLoader uses 0-based indexing\n",
    "                    file_name = os.path.basename(pdf_path)\n",
    "                    data.append([embedding.tolist()[0], content, page_number, pdf_path])\n",
    "\n",
    "                # print(type(data[10][0]), len(data[10][0]))  # Embedding\n",
    "                # print(type(data[10][1]), len(data[10][1]))  # Content\n",
    "                # print(type(data[10][2]))  # Page number\n",
    "                # print(type(data[10][3]), len(data[10][3]))  # File name\n",
    "\n",
    "                formatted_data = []\n",
    "                for item in data:\n",
    "                    formatted_data.append({\n",
    "                        \"embedding\": item[0],\n",
    "                        \"content\": item[1],\n",
    "                        \"page_number\": item[2],\n",
    "                        \"file_name\": item[3]\n",
    "                    })      \n",
    "               \n",
    "                try:\n",
    "                    client.insert(\n",
    "                        collection_name=collection_name,\n",
    "                        data=formatted_data\n",
    "                    )\n",
    "                except Exception as e:\n",
    "                    print(f\"Error inserting single record: {e}\")\n",
    "\n",
    "\n",
    "    # client.flush(collection_name=collection_name)\n",
    "    print(\"All documents processed and uploaded to Milvus.\")"
   ]
  },
  {
   "cell_type": "code",
   "execution_count": 72,
   "metadata": {},
   "outputs": [
    {
     "name": "stdout",
     "output_type": "stream",
     "text": [
      "Processing /Users/yeargun/Downloads/TESTPDFS/KONUANLATIMI-TYT-COG-AYDINYAYINLARI-MATEMATIKCOGRAFYA.pdf\n",
      "Processing /Users/yeargun/Downloads/TESTPDFS/KONUANLATIMI-TYT-FIZ-AYDINYAYINLARI-OPTIK.pdf\n",
      "All documents processed and uploaded to Milvus.\n"
     ]
    }
   ],
   "source": [
    "pdf_directory = \"/Users/yeargun/Downloads/TESTPDFS\"\n",
    "db_name = \"pdf_db\"\n",
    "collection_name = \"pdf_embeddings\"\n",
    "\n",
    "client = MilvusClient(\n",
    "    uri=\"http://localhost:19530\",\n",
    "    db_name=db_name\n",
    ")\n",
    "\n",
    "process_pdfs_and_upload_to_milvus(pdf_directory, client, collection_name)"
   ]
  },
  {
   "cell_type": "code",
   "execution_count": 70,
   "metadata": {},
   "outputs": [
    {
     "name": "stdout",
     "output_type": "stream",
     "text": [
      "{'collection_name': 'pdf_embeddings', 'auto_id': True, 'num_shards': 1, 'description': 'PDF embeddings and metadata', 'fields': [{'field_id': 100, 'name': 'id', 'description': '', 'type': <DataType.INT64: 5>, 'params': {}, 'auto_id': True, 'is_primary': True}, {'field_id': 101, 'name': 'embedding', 'description': '', 'type': <DataType.FLOAT_VECTOR: 101>, 'params': {'dim': 768}}, {'field_id': 102, 'name': 'content', 'description': '', 'type': <DataType.VARCHAR: 21>, 'params': {'max_length': 65535}}, {'field_id': 103, 'name': 'page_number', 'description': '', 'type': <DataType.INT64: 5>, 'params': {}}, {'field_id': 104, 'name': 'file_name', 'description': '', 'type': <DataType.VARCHAR: 21>, 'params': {'max_length': 1024}}], 'aliases': [], 'collection_id': 450664324001316588, 'consistency_level': 2, 'properties': {}, 'num_partitions': 1, 'enable_dynamic_field': True}\n"
     ]
    }
   ],
   "source": [
    "collection_info = client.describe_collection(collection_name)\n",
    "print(collection_info)"
   ]
  },
  {
   "cell_type": "code",
   "execution_count": null,
   "metadata": {},
   "outputs": [],
   "source": []
  }
 ],
 "metadata": {
  "kernelspec": {
   "display_name": "pdf_processor",
   "language": "python",
   "name": "pdf_processor"
  },
  "language_info": {
   "codemirror_mode": {
    "name": "ipython",
    "version": 3
   },
   "file_extension": ".py",
   "mimetype": "text/x-python",
   "name": "python",
   "nbconvert_exporter": "python",
   "pygments_lexer": "ipython3",
   "version": "3.12.4"
  }
 },
 "nbformat": 4,
 "nbformat_minor": 4
}
